{
  "nbformat": 4,
  "nbformat_minor": 0,
  "metadata": {
    "colab": {
      "provenance": [],
      "gpuType": "T4",
      "toc_visible": true
    },
    "kernelspec": {
      "name": "python3",
      "display_name": "Python 3"
    },
    "language_info": {
      "name": "python"
    },
    "accelerator": "GPU"
  },
  "cells": [
    {
      "cell_type": "code",
      "source": [
        "!ls assets\n"
      ],
      "metadata": {
        "colab": {
          "base_uri": "https://localhost:8080/"
        },
        "id": "48qASo-b3unD",
        "outputId": "dfbcc226-5287-432f-eaeb-9245782fe241"
      },
      "execution_count": null,
      "outputs": [
        {
          "output_type": "stream",
          "name": "stdout",
          "text": [
            "freiburg_matches.gif\t\t phototourism_sample_pairs.txt\n",
            "freiburg_sequence\t\t phototourism_test_pairs_original.txt\n",
            "indoor_evaluation.png\t\t phototourism_test_pairs.txt\n",
            "indoor_matches.png\t\t scannet_sample_images\n",
            "magicleap.png\t\t\t scannet_sample_pairs_with_gt.txt\n",
            "megadepth_train_scenes.txt\t scannet_test_pairs_with_gt.txt\n",
            "megadepth_validation_scenes.txt  teaser.png\n",
            "outdoor_matches.png\t\t yfcc_test_pairs_with_gt_original.txt\n",
            "phototourism_sample_images\t yfcc_test_pairs_with_gt.txt\n"
          ]
        }
      ]
    },
    {
      "cell_type": "code",
      "source": [
        "!ls scannet_sample_images\n"
      ],
      "metadata": {
        "colab": {
          "base_uri": "https://localhost:8080/"
        },
        "id": "qHVOgUk64n-a",
        "outputId": "f5603112-d9ca-48d0-c994-c42dee1fe4fc"
      },
      "execution_count": null,
      "outputs": [
        {
          "output_type": "stream",
          "name": "stdout",
          "text": [
            "ls: cannot access 'scannet_sample_images': No such file or directory\n"
          ]
        }
      ]
    },
    {
      "cell_type": "code",
      "source": [
        "!ls phototourism_sample_images\n"
      ],
      "metadata": {
        "colab": {
          "base_uri": "https://localhost:8080/"
        },
        "id": "tmHHtqR04y_-",
        "outputId": "0a0b218f-e72c-4bf0-f0fe-2e1f1375e5a5"
      },
      "execution_count": null,
      "outputs": [
        {
          "output_type": "stream",
          "name": "stdout",
          "text": [
            "ls: cannot access 'phototourism_sample_images': No such file or directory\n"
          ]
        }
      ]
    },
    {
      "cell_type": "code",
      "source": [
        "%cd /content\n",
        "!rm -rf SuperGluePretrainedNetwork\n",
        "!git clone https://github.com/magicleap/SuperGluePretrainedNetwork.git\n",
        "%cd SuperGluePretrainedNetwork\n"
      ],
      "metadata": {
        "colab": {
          "base_uri": "https://localhost:8080/"
        },
        "id": "gryT4lwi400X",
        "outputId": "4f51f30f-7466-4d9b-8ad6-f80ffb11a7a8"
      },
      "execution_count": null,
      "outputs": [
        {
          "output_type": "stream",
          "name": "stdout",
          "text": [
            "/content\n",
            "Cloning into 'SuperGluePretrainedNetwork'...\n",
            "remote: Enumerating objects: 185, done.\u001b[K\n",
            "remote: Counting objects: 100% (1/1), done.\u001b[K\n",
            "remote: Total 185 (delta 0), reused 0 (delta 0), pack-reused 184 (from 2)\u001b[K\n",
            "Receiving objects: 100% (185/185), 118.85 MiB | 34.19 MiB/s, done.\n",
            "Resolving deltas: 100% (52/52), done.\n",
            "/content/SuperGluePretrainedNetwork\n"
          ]
        }
      ]
    },
    {
      "cell_type": "code",
      "source": [
        "!mkdir -p assets\n",
        "!wget -O assets/img1.jpg https://raw.githubusercontent.com/magicleap/SuperGluePretrainedNetwork/master/assets/warrior1.jpg\n",
        "!wget -O assets/img2.jpg https://raw.githubusercontent.com/magicleap/SuperGluePretrainedNetwork/master/assets/warrior2.jpg\n",
        "!ls assets\n"
      ],
      "metadata": {
        "colab": {
          "base_uri": "https://localhost:8080/"
        },
        "id": "KKbZ05U05GK3",
        "outputId": "27d4337c-2756-465e-f3f4-278a93cc6260"
      },
      "execution_count": null,
      "outputs": [
        {
          "output_type": "stream",
          "name": "stdout",
          "text": [
            "--2025-10-16 02:41:19--  https://raw.githubusercontent.com/magicleap/SuperGluePretrainedNetwork/master/assets/warrior1.jpg\n",
            "Resolving raw.githubusercontent.com (raw.githubusercontent.com)... 185.199.110.133, 185.199.109.133, 185.199.111.133, ...\n",
            "Connecting to raw.githubusercontent.com (raw.githubusercontent.com)|185.199.110.133|:443... connected.\n",
            "HTTP request sent, awaiting response... 404 Not Found\n",
            "2025-10-16 02:41:19 ERROR 404: Not Found.\n",
            "\n",
            "--2025-10-16 02:41:19--  https://raw.githubusercontent.com/magicleap/SuperGluePretrainedNetwork/master/assets/warrior2.jpg\n",
            "Resolving raw.githubusercontent.com (raw.githubusercontent.com)... 185.199.108.133, 185.199.109.133, 185.199.110.133, ...\n",
            "Connecting to raw.githubusercontent.com (raw.githubusercontent.com)|185.199.108.133|:443... connected.\n",
            "HTTP request sent, awaiting response... 404 Not Found\n",
            "2025-10-16 02:41:19 ERROR 404: Not Found.\n",
            "\n",
            "freiburg_matches.gif\t\t phototourism_sample_images\n",
            "freiburg_sequence\t\t phototourism_sample_pairs.txt\n",
            "img1.jpg\t\t\t phototourism_test_pairs_original.txt\n",
            "img2.jpg\t\t\t phototourism_test_pairs.txt\n",
            "indoor_evaluation.png\t\t scannet_sample_images\n",
            "indoor_matches.png\t\t scannet_sample_pairs_with_gt.txt\n",
            "magicleap.png\t\t\t scannet_test_pairs_with_gt.txt\n",
            "megadepth_train_scenes.txt\t teaser.png\n",
            "megadepth_validation_scenes.txt  yfcc_test_pairs_with_gt_original.txt\n",
            "outdoor_matches.png\t\t yfcc_test_pairs_with_gt.txt\n"
          ]
        }
      ]
    },
    {
      "cell_type": "code",
      "source": [
        "# Download two small, public sample images that always work\n",
        "!mkdir -p assets\n",
        "!wget -q -O assets/img1.jpg https://images.pexels.com/photos/414612/pexels-photo-414612.jpeg\n",
        "!wget -q -O assets/img2.jpg https://images.pexels.com/photos/1103970/pexels-photo-1103970.jpeg\n",
        "!ls assets\n"
      ],
      "metadata": {
        "colab": {
          "base_uri": "https://localhost:8080/"
        },
        "id": "mejAN1yG5b_e",
        "outputId": "4cd55c6a-993b-4d60-8459-797babcb2358"
      },
      "execution_count": null,
      "outputs": [
        {
          "output_type": "stream",
          "name": "stdout",
          "text": [
            "freiburg_matches.gif\t\t phototourism_sample_images\n",
            "freiburg_sequence\t\t phototourism_sample_pairs.txt\n",
            "img1.jpg\t\t\t phototourism_test_pairs_original.txt\n",
            "img2.jpg\t\t\t phototourism_test_pairs.txt\n",
            "indoor_evaluation.png\t\t scannet_sample_images\n",
            "indoor_matches.png\t\t scannet_sample_pairs_with_gt.txt\n",
            "magicleap.png\t\t\t scannet_test_pairs_with_gt.txt\n",
            "megadepth_train_scenes.txt\t teaser.png\n",
            "megadepth_validation_scenes.txt  yfcc_test_pairs_with_gt_original.txt\n",
            "outdoor_matches.png\t\t yfcc_test_pairs_with_gt.txt\n"
          ]
        }
      ]
    },
    {
      "cell_type": "code",
      "source": [
        "!mv /content/img1.jpg /content/img2.jpg /content/SuperGluePretrainedNetwork/assets/\n"
      ],
      "metadata": {
        "colab": {
          "base_uri": "https://localhost:8080/"
        },
        "id": "-4uzPVGY6R3i",
        "outputId": "a27abfa0-ef80-436e-c22b-22896c68ef27"
      },
      "execution_count": null,
      "outputs": [
        {
          "output_type": "stream",
          "name": "stdout",
          "text": [
            "mv: cannot stat '/content/img1.jpg': No such file or directory\n",
            "mv: cannot stat '/content/img2.jpg': No such file or directory\n"
          ]
        }
      ]
    },
    {
      "cell_type": "code",
      "source": [
        "%cd /content/SuperGluePretrainedNetwork\n",
        "!mkdir -p assets\n",
        "!wget -q -O assets/img1.jpg https://images.pexels.com/photos/414612/pexels-photo-414612.jpeg\n",
        "!wget -q -O assets/img2.jpg https://images.pexels.com/photos/1103970/pexels-photo-1103970.jpeg\n",
        "!ls assets\n"
      ],
      "metadata": {
        "colab": {
          "base_uri": "https://localhost:8080/"
        },
        "id": "M_XAtFnE6a4Z",
        "outputId": "44e276f0-fa8a-4096-fa45-8c594b1d7035"
      },
      "execution_count": null,
      "outputs": [
        {
          "output_type": "stream",
          "name": "stdout",
          "text": [
            "/content/SuperGluePretrainedNetwork\n",
            "freiburg_matches.gif\t\t phototourism_sample_images\n",
            "freiburg_sequence\t\t phototourism_sample_pairs.txt\n",
            "img1.jpg\t\t\t phototourism_test_pairs_original.txt\n",
            "img2.jpg\t\t\t phototourism_test_pairs.txt\n",
            "indoor_evaluation.png\t\t scannet_sample_images\n",
            "indoor_matches.png\t\t scannet_sample_pairs_with_gt.txt\n",
            "magicleap.png\t\t\t scannet_test_pairs_with_gt.txt\n",
            "megadepth_train_scenes.txt\t teaser.png\n",
            "megadepth_validation_scenes.txt  yfcc_test_pairs_with_gt_original.txt\n",
            "outdoor_matches.png\t\t yfcc_test_pairs_with_gt.txt\n"
          ]
        }
      ]
    },
    {
      "cell_type": "code",
      "source": [
        "import cv2, numpy as np\n",
        "\n",
        "# Create two black images with white geometric shapes (for feature detection)\n",
        "img1 = np.zeros((480, 640), dtype=np.uint8)\n",
        "img2 = np.zeros((480, 640), dtype=np.uint8)\n",
        "\n",
        "# Draw a few shapes on img1\n",
        "cv2.rectangle(img1, (150, 150), (300, 300), 255, -1)\n",
        "cv2.circle(img1, (450, 200), 50, 255, -1)\n",
        "\n",
        "# Draw similar but shifted shapes on img2\n",
        "cv2.rectangle(img2, (180, 180), (330, 330), 255, -1)\n",
        "cv2.circle(img2, (480, 230), 50, 255, -1)\n",
        "\n",
        "# Save these images in the assets folder for the matcher\n",
        "cv2.imwrite('assets/img1.jpg', img1)\n",
        "cv2.imwrite('assets/img2.jpg', img2)\n",
        "\n",
        "print(\"✅ Created synthetic test images successfully!\")\n"
      ],
      "metadata": {
        "colab": {
          "base_uri": "https://localhost:8080/"
        },
        "id": "Ga90bb2E5Ugv",
        "outputId": "3843dbce-7dfd-44ba-92d1-8739d4b98062"
      },
      "execution_count": null,
      "outputs": [
        {
          "output_type": "stream",
          "name": "stdout",
          "text": [
            "✅ Created synthetic test images successfully!\n"
          ]
        }
      ]
    },
    {
      "cell_type": "code",
      "source": [
        "import cv2, torch\n",
        "from matplotlib import pyplot as plt\n",
        "from models.matching import Matching\n",
        "from models.utils import frame2tensor\n",
        "\n",
        "# Load models\n",
        "config = {\n",
        "    'superpoint': {'nms_radius': 4, 'keypoint_threshold': 0.005, 'max_keypoints': 1024},\n",
        "    'superglue': {'weights': 'outdoor'},\n",
        "}\n",
        "matching = Matching(config).eval().cuda()\n",
        "\n",
        "# Use the newly created synthetic images\n",
        "img1 = cv2.imread('assets/img1.jpg', cv2.IMREAD_GRAYSCALE)\n",
        "img2 = cv2.imread('assets/img2.jpg', cv2.IMREAD_GRAYSCALE)\n",
        "\n",
        "print(\"Image shapes:\", img1.shape if img1 is not None else None, img2.shape if img2 is not None else None)\n",
        "\n",
        "# Run matching\n",
        "inp1, inp2 = frame2tensor(img1, 'cuda'), frame2tensor(img2, 'cuda')\n",
        "pred = matching({'image0': inp1, 'image1': inp2})\n",
        "\n",
        "# Extract valid matches\n",
        "kpts0 = pred['keypoints0'][0].cpu().numpy()\n",
        "kpts1 = pred['keypoints1'][0].cpu().numpy()\n",
        "matches = pred['matches0'][0].cpu().numpy()\n",
        "valid = matches > -1\n",
        "matched_kpts0 = kpts0[valid]\n",
        "matched_kpts1 = kpts1[matches[valid]]\n",
        "\n",
        "# Draw matches\n",
        "matched_img = cv2.drawMatches(\n",
        "    img1, [cv2.KeyPoint(*pt, 1) for pt in matched_kpts0],\n",
        "    img2, [cv2.KeyPoint(*pt, 1) for pt in matched_kpts1],\n",
        "    [cv2.DMatch(i, i, 0) for i in range(len(matched_kpts0))],\n",
        "    None\n",
        ")\n",
        "\n",
        "plt.figure(figsize=(14,7))\n",
        "plt.imshow(matched_img)\n",
        "plt.title('SuperGlue Feature Matches — OnePose Component Reproduction (Synthetic Example)')\n",
        "plt.axis('off')\n",
        "plt.show()\n"
      ],
      "metadata": {
        "colab": {
          "base_uri": "https://localhost:8080/"
        },
        "id": "JjYeEKtl6w5L",
        "outputId": "3f665070-b2bc-43cf-af76-9dd9ea03fd49"
      },
      "execution_count": null,
      "outputs": [
        {
          "output_type": "stream",
          "name": "stdout",
          "text": [
            "Loaded SuperPoint model\n",
            "Loaded SuperGlue model (\"outdoor\" weights)\n",
            "Image shapes: (480, 640) (480, 640)\n"
          ]
        }
      ]
    },
    {
      "cell_type": "code",
      "source": [
        "%cd /content/SuperGluePretrainedNetwork\n",
        "!mkdir -p assets\n",
        "!wget -q -O assets/img1.jpg https://upload.wikimedia.org/wikipedia/commons/2/24/Blue_Morpho_Butterfly.jpg\n",
        "!wget -q -O assets/img2.jpg https://upload.wikimedia.org/wikipedia/commons/9/9e/Monarch_Butterfly_Danaus_plexippus_04.jpg\n",
        "!ls assets\n"
      ],
      "metadata": {
        "colab": {
          "base_uri": "https://localhost:8080/"
        },
        "id": "uqFcBCByEDI9",
        "outputId": "f49adc0a-1dd4-4ba6-9c4b-54db2abe7797"
      },
      "execution_count": null,
      "outputs": [
        {
          "output_type": "stream",
          "name": "stdout",
          "text": [
            "/content/SuperGluePretrainedNetwork\n",
            "freiburg_matches.gif\t\t phototourism_sample_images\n",
            "freiburg_sequence\t\t phototourism_sample_pairs.txt\n",
            "img1.jpg\t\t\t phototourism_test_pairs_original.txt\n",
            "img2.jpg\t\t\t phototourism_test_pairs.txt\n",
            "indoor_evaluation.png\t\t scannet_sample_images\n",
            "indoor_matches.png\t\t scannet_sample_pairs_with_gt.txt\n",
            "magicleap.png\t\t\t scannet_test_pairs_with_gt.txt\n",
            "megadepth_train_scenes.txt\t teaser.png\n",
            "megadepth_validation_scenes.txt  yfcc_test_pairs_with_gt_original.txt\n",
            "outdoor_matches.png\t\t yfcc_test_pairs_with_gt.txt\n"
          ]
        }
      ]
    },
    {
      "cell_type": "code",
      "source": [
        "!pwd\n",
        "!ls -R assets | head\n"
      ],
      "metadata": {
        "colab": {
          "base_uri": "https://localhost:8080/"
        },
        "id": "sYsW3YmYEFz3",
        "outputId": "1193d6d7-22a3-4701-eb04-d4c38fb4f35e"
      },
      "execution_count": null,
      "outputs": [
        {
          "output_type": "stream",
          "name": "stdout",
          "text": [
            "/content/SuperGluePretrainedNetwork\n",
            "assets:\n",
            "freiburg_matches.gif\n",
            "freiburg_sequence\n",
            "img1.jpg\n",
            "img2.jpg\n",
            "indoor_evaluation.png\n",
            "indoor_matches.png\n",
            "magicleap.png\n",
            "megadepth_train_scenes.txt\n",
            "megadepth_validation_scenes.txt\n"
          ]
        }
      ]
    },
    {
      "cell_type": "code",
      "source": [
        "%cd /content/SuperGluePretrainedNetwork\n",
        "!rm -f assets/img1.jpg assets/img2.jpg\n",
        "!mkdir -p assets\n",
        "\n",
        "# Use small, verified JPEGs that always load\n",
        "!wget -q -O assets/img1.jpg https://upload.wikimedia.org/wikipedia/commons/thumb/5/54/Lake_mapourika_NZ.jpeg/640px-Lake_mapourika_NZ.jpeg\n",
        "!wget -q -O assets/img2.jpg https://upload.wikimedia.org/wikipedia/commons/thumb/9/9a/Glenorchy_Lagoon_Boardwalk.jpg/640px-Glenorchy_Lagoon_Boardwalk.jpg\n",
        "\n",
        "# Confirm they exist and have size >0\n",
        "!ls -lh assets/img*.jpg\n"
      ],
      "metadata": {
        "colab": {
          "base_uri": "https://localhost:8080/"
        },
        "id": "oP_AYcPHEU8_",
        "outputId": "044c232f-76bb-4ea4-ed79-2867d343c457"
      },
      "execution_count": null,
      "outputs": [
        {
          "output_type": "stream",
          "name": "stdout",
          "text": [
            "/content/SuperGluePretrainedNetwork\n",
            "-rw-r--r-- 1 root root 0 Oct 16 03:31 assets/img1.jpg\n",
            "-rw-r--r-- 1 root root 0 Oct 16 03:31 assets/img2.jpg\n"
          ]
        }
      ]
    },
    {
      "cell_type": "code",
      "source": [
        "import cv2, numpy as np, torch, os\n",
        "from matplotlib import pyplot as plt\n",
        "from models.matching import Matching\n",
        "from models.utils import frame2tensor\n",
        "\n",
        "# Confirm GPU\n",
        "print(\"Using device:\", \"cuda\" if torch.cuda.is_available() else \"cpu\")\n",
        "\n",
        "# --- Create synthetic shapes (easy keypoints) ---\n",
        "img1 = np.zeros((480, 640), dtype=np.uint8)\n",
        "img2 = np.zeros((480, 640), dtype=np.uint8)\n",
        "cv2.rectangle(img1, (150, 100), (300, 250), 255, -1)\n",
        "cv2.circle(img1, (450, 200), 40, 255, -1)\n",
        "cv2.line(img1, (100,400), (500,400), 255, 5)\n",
        "cv2.rectangle(img2, (170, 120), (320, 270), 255, -1)\n",
        "cv2.circle(img2, (470, 220), 40, 255, -1)\n",
        "cv2.line(img2, (120,410), (520,410), 255, 5)\n",
        "\n",
        "# --- Load SuperPoint + SuperGlue ---\n",
        "config = {\n",
        "    'superpoint': {'nms_radius': 4, 'keypoint_threshold': 0.005, 'max_keypoints': 1024},\n",
        "    'superglue': {'weights': 'outdoor'},\n",
        "}\n",
        "matching = Matching(config).eval().cuda()\n",
        "\n",
        "# --- Convert to tensor & run matching on GPU ---\n",
        "inp1, inp2 = frame2tensor(img1, 'cuda'), frame2tensor(img2, 'cuda')\n",
        "with torch.no_grad():\n",
        "    pred = matching({'image0': inp1, 'image1': inp2})\n",
        "\n",
        "# --- Extract valid matches ---\n",
        "kpts0 = pred['keypoints0'][0].cpu().numpy()\n",
        "kpts1 = pred['keypoints1'][0].cpu().numpy()\n",
        "matches = pred['matches0'][0].cpu().numpy()\n",
        "valid = matches > -1\n",
        "matched_kpts0 = kpts0[valid]\n",
        "matched_kpts1 = kpts1[matches[valid]]\n",
        "\n",
        "print(f\"Detected {len(kpts0)} keypoints in img1 and {len(kpts1)} in img2\")\n",
        "print(f\"Found {len(matched_kpts0)} valid matches\")\n",
        "\n",
        "# --- Draw matches ---\n",
        "matched_img = cv2.drawMatches(\n",
        "    img1, [cv2.KeyPoint(*pt, 1) for pt in matched_kpts0],\n",
        "    img2, [cv2.KeyPoint(*pt, 1) for pt in matched_kpts1],\n",
        "    [cv2.DMatch(i, i, 0) for i in range(len(matched_kpts0))],\n",
        "    None\n",
        ")\n",
        "\n",
        "plt.figure(figsize=(14,7))\n",
        "plt.imshow(matched_img, cmap='gray')\n",
        "plt.title('SuperGlue Feature Matches — OnePose Component Reproduction (GPU Run)')\n",
        "plt.axis('off')\n",
        "plt.show()\n"
      ],
      "metadata": {
        "colab": {
          "base_uri": "https://localhost:8080/"
        },
        "id": "qZ2QEcM7EpUI",
        "outputId": "19570db5-a6fc-4e92-d63c-af96f7b5f3ff"
      },
      "execution_count": null,
      "outputs": [
        {
          "output_type": "stream",
          "name": "stdout",
          "text": [
            "Using device: cuda\n",
            "Loaded SuperPoint model\n",
            "Loaded SuperGlue model (\"outdoor\" weights)\n",
            "Detected 33 keypoints in img1 and 34 in img2\n",
            "Found 29 valid matches\n"
          ]
        }
      ]
    },
    {
      "cell_type": "code",
      "source": [
        "plt.show(block=True)\n"
      ],
      "metadata": {
        "id": "cBWk60HHFYDi"
      },
      "execution_count": null,
      "outputs": []
    },
    {
      "cell_type": "code",
      "source": [
        "import cv2\n",
        "import matplotlib.pyplot as plt\n",
        "\n",
        "# Draw the matches\n",
        "matched_img = cv2.drawMatches(\n",
        "    img1, [cv2.KeyPoint(*pt, 1) for pt in matched_kpts0],\n",
        "    img2, [cv2.KeyPoint(*pt, 1) for pt in matched_kpts1],\n",
        "    [cv2.DMatch(i, i, 0) for i in range(len(matched_kpts0))],\n",
        "    None\n",
        ")\n",
        "\n",
        "# Save the result to disk\n",
        "output_path = \"/content/SuperGluePretrainedNetwork/matched_output.jpg\"\n",
        "cv2.imwrite(output_path, matched_img)\n",
        "print(f\"✅ Match visualization saved as {output_path}\")\n"
      ],
      "metadata": {
        "colab": {
          "base_uri": "https://localhost:8080/"
        },
        "id": "z0nTmVW-GZ9_",
        "outputId": "acae1b29-9485-40ae-e9e6-ca214a04dd0b"
      },
      "execution_count": null,
      "outputs": [
        {
          "output_type": "stream",
          "name": "stdout",
          "text": [
            "✅ Match visualization saved as /content/SuperGluePretrainedNetwork/matched_output.jpg\n"
          ]
        }
      ]
    },
    {
      "cell_type": "code",
      "source": [
        "!ls -lh /content/SuperGluePretrainedNetwork/matched_output.jpg\n"
      ],
      "metadata": {
        "colab": {
          "base_uri": "https://localhost:8080/"
        },
        "id": "c7whqbNYGdSt",
        "outputId": "f5666463-965c-49ab-c534-339a79e5bf87"
      },
      "execution_count": null,
      "outputs": [
        {
          "output_type": "stream",
          "name": "stdout",
          "text": [
            "-rw-r--r-- 1 root root 61K Oct 16 03:41 /content/SuperGluePretrainedNetwork/matched_output.jpg\n"
          ]
        }
      ]
    },
    {
      "cell_type": "code",
      "source": [
        "from IPython.display import Image, display\n",
        "\n",
        "# Path where the file was saved earlier\n",
        "image_path = \"/content/SuperGluePretrainedNetwork/matched_output.jpg\"\n",
        "\n",
        "# Display inside notebook\n",
        "display(Image(filename=image_path))\n"
      ],
      "metadata": {
        "colab": {
          "base_uri": "https://localhost:8080/",
          "height": 250
        },
        "id": "DHL2Z_L1HE2I",
        "outputId": "a9d4e95a-72bc-40bf-ad7e-5ec3b66c57dc"
      },
      "execution_count": null,
      "outputs": [
        {
          "output_type": "display_data",
          "data": {
            "image/jpeg": "[encoded data removed]",
            "text/plain": [
              "<IPython.core.display.Image object>"
            ]
          },
          "metadata": {}
        }
      ]
    },
    {
      "cell_type": "code",
      "source": [],
      "metadata": {
        "id": "OhXqCfHicGl0"
      },
      "execution_count": null,
      "outputs": []
    }
  ]
}